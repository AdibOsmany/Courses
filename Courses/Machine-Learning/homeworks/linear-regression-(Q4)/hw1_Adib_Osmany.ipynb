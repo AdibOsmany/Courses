{
  "metadata": {
    "kernelspec": {
      "name": "python",
      "display_name": "Python (Pyodide)",
      "language": "python"
    },
    "language_info": {
      "codemirror_mode": {
        "name": "python",
        "version": 3
      },
      "file_extension": ".py",
      "mimetype": "text/x-python",
      "name": "python",
      "nbconvert_exporter": "python",
      "pygments_lexer": "ipython3",
      "version": "3.8"
    }
  },
  "nbformat_minor": 4,
  "nbformat": 4,
  "cells": [
    {
      "cell_type": "code",
      "source": "# Name: Adib Osmany\nimport pandas as pd\nimport numpy as np\nimport matplotlib.pyplot as plt\nfrom sklearn.model_selection import train_test_split\nfrom sklearn.linear_model import Lasso, Ridge, ElasticNet\nfrom sklearn.metrics import mean_squared_error\nfrom sklearn.model_selection import cross_val_score\nfrom sklearn.metrics import r2_score\ndata=pd.read_csv('q4_data.csv')",
      "metadata": {
        "trusted": true
      },
      "outputs": [],
      "execution_count": 175
    },
    {
      "cell_type": "code",
      "source": "\n\nx=data.drop(columns = 'Y2')\nprint(x)",
      "metadata": {
        "trusted": true,
        "scrolled": true
      },
      "outputs": [
        {
          "name": "stdout",
          "text": "       X1     X2     X3      X4   X5  X6   X7  X8\n0    0.98  514.5  294.0  110.25  7.0   2  0.0   0\n1    0.98  514.5  294.0  110.25  7.0   3  0.0   0\n2    0.98  514.5  294.0  110.25  7.0   4  0.0   0\n3    0.98  514.5  294.0  110.25  7.0   5  0.0   0\n4    0.90  563.5  318.5  122.50  7.0   2  0.0   0\n..    ...    ...    ...     ...  ...  ..  ...  ..\n763  0.64  784.0  343.0  220.50  3.5   5  0.4   5\n764  0.62  808.5  367.5  220.50  3.5   2  0.4   5\n765  0.62  808.5  367.5  220.50  3.5   3  0.4   5\n766  0.62  808.5  367.5  220.50  3.5   4  0.4   5\n767  0.62  808.5  367.5  220.50  3.5   5  0.4   5\n\n[768 rows x 8 columns]\n",
          "output_type": "stream"
        }
      ],
      "execution_count": 176
    },
    {
      "cell_type": "code",
      "source": "y=data['Y2']\nprint(y)",
      "metadata": {
        "trusted": true
      },
      "outputs": [
        {
          "name": "stdout",
          "text": "0      21.33\n1      21.33\n2      21.33\n3      21.33\n4      28.28\n       ...  \n763    21.40\n764    16.88\n765    17.11\n766    16.61\n767    16.03\nName: Y2, Length: 768, dtype: float64\n",
          "output_type": "stream"
        }
      ],
      "execution_count": 177
    },
    {
      "cell_type": "code",
      "source": "X_train, X_test, y_train, y_test, = train_test_split(x, y, test_size = .2)",
      "metadata": {
        "trusted": true
      },
      "outputs": [],
      "execution_count": 178
    },
    {
      "cell_type": "code",
      "source": "#Lasso model\nlasso=Lasso()\nlasso.fit(X_train, y_train)\ny_lasso_pred=lasso.predict(X_test)\nprint(\"R^2 value for single Lasso model: \"+ str(r2_score(y_test,y_lasso_pred)))\nprint(\"MSE value for single Lasso model: \"+ str(mean_squared_error(y_test, y_lasso_pred)))\nprint(\"Lasso Regression Equation: Y2= \", end=\"\")\nprint(str(\"{:.2f}\".format(lasso.coef_[0]))+\"(X1) + \", end=\"\")\nprint(str(\"{:.2f}\".format(lasso.coef_[1]))+\"(X2) + \", end=\"\")\nprint(str(\"{:.2f}\".format(lasso.coef_[2]))+\"(X3) + \", end=\"\")\nprint(str(\"{:.2f}\".format(lasso.coef_[3]))+\"(X4) + \", end=\"\")\nprint(str(\"{:.2f}\".format(lasso.coef_[4]))+\"(X5) + \", end=\"\")\nprint(str(\"{:.2f}\".format(lasso.coef_[5]))+\"(X6) + \", end=\"\")\nprint(str(\"{:.2f}\".format(lasso.coef_[6]))+\"(X7) + \", end=\"\")\nprint(str(\"{:.2f}\".format(lasso.coef_[7]))+\"(X8) + \"+str(\"{:.2f}\".format(lasso.intercept_)))\n",
      "metadata": {
        "trusted": true
      },
      "outputs": [
        {
          "name": "stdout",
          "text": "R^2 value for single Lasso model: 0.8406040069682406\nMSE value for single Lasso model: 13.562303279933856\nLasso Regression Equation: Y2= -0.00(X1) + -0.06(X2) + 0.11(X3) + -0.02(X4) + 0.47(X5) + 0.00(X6) + 0.00(X7) + 0.00(X8) + 34.60\n",
          "output_type": "stream"
        }
      ],
      "execution_count": 179
    },
    {
      "cell_type": "code",
      "source": "#Lasso cross validation\nlasso_cross=Lasso()\nlassoMSE= -(cross_val_score(lasso_cross, x, y, cv=5, scoring='neg_mean_squared_error'))\nprint(\"MSE's of 5 cross-validations of Lasso model: \" , end=\"\")\nprint(lassoMSE)\nprint(\"Average MSE value of 5 cross-validations of Lasso model: \" , end=\"\")\nprint(np.mean(lassoMSE))\nprint(\"Average R^2 value of 5 cross-validations of Lasso model: \" , end=\"\")\nprint(np.mean(cross_val_score(lasso_cross, x, y, cv=5, scoring='r2')))",
      "metadata": {
        "trusted": true
      },
      "outputs": [
        {
          "name": "stdout",
          "text": "MSE's of 5 cross-validations of Lasso model: [33.36883924 22.52580017 14.9428878  21.27405675 20.39084768]\nAverage MSE value of 5 cross-validations of Lasso model: 22.500486329165795\nAverage R^2 value of 5 cross-validations of Lasso model: 0.7380103307895335\n",
          "output_type": "stream"
        }
      ],
      "execution_count": 180
    },
    {
      "cell_type": "code",
      "source": "#ridge model\nridge=Ridge()\nridge.fit(X_train, y_train)\ny_ridge_pred=ridge.predict(X_test)\nprint(\"R^2 value for single Ridge model: \"+ str(r2_score(y_test,y_ridge_pred)))\nprint(\"MSE value for single Ridge model: \"+ str(mean_squared_error(y_test, y_ridge_pred)))\nprint(\"Ridge Regression Equation: Y2= \", end=\"\")\nprint(str(\"{:.2f}\".format(ridge.coef_[0]))+\"(X1) + \", end=\"\")\nprint(str(\"{:.2f}\".format(ridge.coef_[1]))+\"(X2) + \", end=\"\")\nprint(str(\"{:.2f}\".format(ridge.coef_[2]))+\"(X3) + \", end=\"\")\nprint(str(\"{:.2f}\".format(ridge.coef_[3]))+\"(X4) + \", end=\"\")\nprint(str(\"{:.2f}\".format(ridge.coef_[4]))+\"(X5) + \", end=\"\")\nprint(str(\"{:.2f}\".format(ridge.coef_[5]))+\"(X6) + \", end=\"\")\nprint(str(\"{:.2f}\".format(ridge.coef_[6]))+\"(X7) + \", end=\"\")\nprint(str(\"{:.2f}\".format(ridge.coef_[7]))+\"(X8) + \"+str(\"{:.2f}\".format(ridge.intercept_)))",
      "metadata": {
        "trusted": true
      },
      "outputs": [
        {
          "name": "stdout",
          "text": "R^2 value for single Ridge model: 0.9041118551302502\nMSE value for single Ridge model: 8.158700083600376\nRidge Regression Equation: Y2= -4.37(X1) + 0.02(X2) + 0.02(X3) + 0.00(X4) + 5.80(X5) + 0.15(X6) + 14.02(X7) + 0.05(X8) + -25.98\n",
          "output_type": "stream"
        }
      ],
      "execution_count": 181
    },
    {
      "cell_type": "code",
      "source": "#Ridge cross-validation\nridge_cross=Ridge()\nridgeMSE= -(cross_val_score(ridge_cross, x, y, cv=5, scoring='neg_mean_squared_error'))\nprint(\"MSE's of 5 cross-validations of Ridge model: \" , end=\"\")\nprint(ridgeMSE)\nprint(\"Average MSE value of 5 cross-validations of Ridge model: \" , end=\"\")\nprint(np.mean(ridgeMSE))\nprint(\"Average R^2 value of 5 cross-validations of Ridge model: \" , end=\"\")\nprint(np.mean(cross_val_score(ridge_cross, x, y, cv=5, scoring='r2')))",
      "metadata": {
        "trusted": true
      },
      "outputs": [
        {
          "name": "stdout",
          "text": "MSE's of 5 cross-validations of Ridge model: [14.2647374  12.01487518 10.25782045 11.01366686 10.18052406]\nAverage MSE value of 5 cross-validations of Ridge model: 11.546324788368029\nAverage R^2 value of 5 cross-validations of Ridge model: 0.8668525182699967\n",
          "output_type": "stream"
        }
      ],
      "execution_count": 182
    },
    {
      "cell_type": "code",
      "source": "#Elastic Net regression\nelastic=ElasticNet()\nelastic.fit(X_train, y_train)\ny_net_pred=elastic.predict(X_test)\nprint(\"R^2 value for single Elastic Net regression model: \"+ str(r2_score(y_test,y_net_pred)))\nprint(\"MSE value for single Elastic Net regression model: \"+ str(mean_squared_error(y_test, y_net_pred)))\nprint(\"Elastic Net Regression Equation: Y2= \", end=\"\")\nprint(str(\"{:.2f}\".format(elastic.coef_[0]))+\"(X1) + \", end=\"\")\nprint(str(\"{:.2f}\".format(elastic.coef_[1]))+\"(X2) + \", end=\"\")\nprint(str(\"{:.2f}\".format(elastic.coef_[2]))+\"(X3) + \", end=\"\")\nprint(str(\"{:.2f}\".format(elastic.coef_[3]))+\"(X4) + \", end=\"\")\nprint(str(\"{:.2f}\".format(elastic.coef_[4]))+\"(X5) + \", end=\"\")\nprint(str(\"{:.2f}\".format(elastic.coef_[5]))+\"(X6) + \", end=\"\")\nprint(str(\"{:.2f}\".format(elastic.coef_[6]))+\"(X7) + \", end=\"\")\nprint(str(\"{:.2f}\".format(elastic.coef_[7]))+\"(X8) + \"+str(\"{:.2f}\".format(elastic.intercept_)))",
      "metadata": {
        "trusted": true
      },
      "outputs": [
        {
          "name": "stdout",
          "text": "R^2 value for single Elastic Net regression model: 0.8464931668690759\nMSE value for single Elastic Net regression model: 13.061220591969166\nElastic Net Regression Equation: Y2= -0.00(X1) + -0.06(X2) + 0.10(X3) + -0.02(X4) + 0.83(X5) + 0.00(X6) + 0.00(X7) + 0.07(X8) + 30.09\n",
          "output_type": "stream"
        }
      ],
      "execution_count": 183
    },
    {
      "cell_type": "code",
      "source": "#Elastic Net cross-validation\nelastic_cross=ElasticNet()\nnetMSE= -(cross_val_score(elastic_cross, x, y, cv=5, scoring='neg_mean_squared_error'))\nprint(\"MSE's of 5 cross-validations of Elastic Net regression model: \" , end=\"\")\nprint(netMSE)\nprint(\"Average MSE value of 5 cross-validations of Elastic Net regression model: \" , end=\"\")\nprint(np.mean(netMSE))\nprint(\"Average R^2 value of 5 cross-validations of Elastic Net regression model: \" , end=\"\")\nprint(np.mean(cross_val_score(elastic_cross, x, y, cv=5, scoring='r2')))",
      "metadata": {
        "trusted": true
      },
      "outputs": [
        {
          "name": "stdout",
          "text": "MSE's of 5 cross-validations of Elastic Net regression model: [33.8630446  22.10364931 13.92298419 21.22091291 19.51827634]\nAverage MSE value of 5 cross-validations of Elastic Net regression model: 22.12577347126543\nAverage R^2 value of 5 cross-validations of Elastic Net regression model: 0.7418988862088957\n",
          "output_type": "stream"
        }
      ],
      "execution_count": 184
    }
  ]
}